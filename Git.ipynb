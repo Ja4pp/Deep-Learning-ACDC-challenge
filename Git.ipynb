{
 "cells": [
  {
   "cell_type": "markdown",
   "id": "525cb8fe-fdd1-4a3c-9d1b-8c77f17201f0",
   "metadata": {},
   "source": [
    "## GITHUB EN GIT\n",
    "\n",
    "__Git en Github in Jip & Janneke:__\n",
    "\n",
    "Git en Github zijn twee handige tools voor het samenwerken aan programmeerprojecten. Git is als een digitaal dagboek waarin je alle veranderingen die je aanbrengt aan de code kan opslaan en terugkijken. Dit betekent dat als er een fout in de code wordt gevonden, je gemakkelijk terug kunt gaan naar een vorige versie van de code om te zien wat er anders was.\n",
    "\n",
    "Github is een website waarop je je Git-projecten kunt uploaden, zodat andere mensen eraan kunnen bijdragen. Het is als een bibliotheek vol met code-projecten, waar iedereen toegang tot heeft en aan kan bijdragen. Dit maakt het gemakkelijk om samen te werken aan projecten, ongeacht waar je je bevindt. Je kunt suggesties doen en fouten rapporteren, en de eigenaar van het project kan dan de code accepteren of afwijzen.\n",
    "\n",
    "Dus als je een programmeur bent en je wilt samenwerken aan een project, dan zijn Git en Github erg handig om te gebruiken! Het zorgt ervoor dat iedereen in het team up-to-date blijft en dat er altijd een back-up is van de code.\n",
    "\n",
    "\n",
    "\n"
   ]
  },
  {
   "cell_type": "markdown",
   "id": "4b624ab0-827e-4238-85df-246e4e620fa7",
   "metadata": {},
   "source": [
    "__De essentiele commands voor Git en Github:__\n",
    "\n",
    "Er zijn verschillende Git commands die essentieel zijn voor het beheren en gebruiken van een Git-repository.\n",
    "\n",
    "1. `git init`: Hiermee maak je een nieuwe Git-repository aan in een lege map.\n",
    "2. `git add`: Hiermee voeg je wijzigingen toe aan de staging area, wat betekent dat Git de veranderingen zal volgen en vastleggen.\n",
    "3. `git commit`: Hiermee leg je de wijzigingen die je hebt toegevoegd aan de staging area vast en maak je een nieuwe versie van de code.\n",
    "4. `git push`: Hiermee upload je de wijzigingen naar een remote repository, zoals Github.\n",
    "5. `git pull`: Hiermee haal je de laatste wijzigingen op van een remote repository naar je lokale repository.\n",
    "6. `git clone`: Hiermee maak je een kopie van een bestaande Git-repository naar je eigen computer.\n",
    "7. `git branch`: Hiermee bekijk je de lijst van branches in de Git-repository en maak je nieuwe branches aan.\n",
    "8. `git checkout`: Hiermee switch je tussen verschillende branches in de Git-repository.\n",
    "9. `git merge`: Hiermee voeg je wijzigingen samen van een andere branch naar de huidige branch.\n",
    "10. `git status`: Hiermee bekijk je de status van de huidige Git-repository, inclusief welke bestanden gewijzigd zijn en welke bestanden in de staging area staan.\n",
    "\n",
    "Deze commands zijn essentieel om te weten wanneer je Git gebruikt voor het beheren van code en samenwerken met anderen. Andere handige commands zijn bijvoorbeeld `git log` om de geschiedenis van de Git-repository te bekijken en `git remote` om remote repositories toe te voegen of te bekijken. Het is aan te raden om de basis Git commands goed te beheersen voordat je de meer geavanceerde commands gaat gebruiken.\n",
    "\n",
    "___In de volgende secties zullen de stukje code om git in de terminal te kunnen runnen worden neergezet voor ons project. Daarnaast eventuele verwijzingen naar de git-tool van Jupiter zelf die alles een stukje visueler maakt___"
   ]
  },
  {
   "cell_type": "markdown",
   "id": "9d4268ab-90f4-4cb7-b13f-68f63b99b3bb",
   "metadata": {},
   "source": [
    "<div style='background-color:rgba(255,0,0,0.4); padding:20px'>\n",
    "  <b> Waarschuwing</b>: Niet alles wil je je gecommit hebben. Er zit een max. van 2 MiB per push naar GitHub. Zorg er daarom voor dat je up-to-date bent en regelmatig kleine stukjes (e.g. een nieuwe functie) commit, zodat je niet te groot pusht en de code behapbaar houdt. De images uit de database horen wat mij betreft ook niet op de repository thuis.\n",
    "</div>"
   ]
  },
  {
   "cell_type": "code",
   "execution_count": null,
   "id": "7400955a-7210-4821-a192-4797c3b193c5",
   "metadata": {},
   "outputs": [],
   "source": []
  }
 ],
 "metadata": {
  "kernelspec": {
   "display_name": "Python",
   "language": "python",
   "name": "python3"
  },
  "language_info": {
   "codemirror_mode": {
    "name": "ipython",
    "version": 3
   },
   "file_extension": ".py",
   "mimetype": "text/x-python",
   "name": "python",
   "nbconvert_exporter": "python",
   "pygments_lexer": "ipython3",
   "version": "3.8.10"
  }
 },
 "nbformat": 4,
 "nbformat_minor": 5
}
