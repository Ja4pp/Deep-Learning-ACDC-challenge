{
 "cells": [
  {
   "cell_type": "markdown",
   "id": "9cb9d8a4-9cec-4168-be8c-7689693b1846",
   "metadata": {},
   "source": [
    "Sorry, hier mag het model"
   ]
  },
  {
   "cell_type": "code",
   "execution_count": null,
   "id": "bab17942-5359-411f-aea8-e4612f257611",
   "metadata": {},
   "outputs": [],
   "source": []
  }
 ],
 "metadata": {
  "kernelspec": {
   "display_name": "Python",
   "language": "python",
   "name": "python3"
  },
  "language_info": {
   "codemirror_mode": {
    "name": "ipython",
    "version": 3
   },
   "file_extension": ".py",
   "mimetype": "text/x-python",
   "name": "python",
   "nbconvert_exporter": "python",
   "pygments_lexer": "ipython3",
   "version": "3.8.10"
  }
 },
 "nbformat": 4,
 "nbformat_minor": 5
}
