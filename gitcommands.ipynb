{
 "cells": [
  {
   "cell_type": "markdown",
   "id": "525cb8fe-fdd1-4a3c-9d1b-8c77f17201f0",
   "metadata": {},
   "source": [
    "## Welkom bij de gitcommands\n",
    "\n",
    "Hier zullen we uitleggen welke commands je kunt gebruiken om het project te synchroniseren met GitHub.S"
   ]
  },
  {
   "cell_type": "code",
   "execution_count": null,
   "id": "899d565c-f973-47c3-b64b-f06de776d723",
   "metadata": {},
   "outputs": [],
   "source": []
  }
 ],
 "metadata": {
  "kernelspec": {
   "display_name": "Python",
   "language": "python",
   "name": "python3"
  },
  "language_info": {
   "codemirror_mode": {
    "name": "ipython",
    "version": 3
   },
   "file_extension": ".py",
   "mimetype": "text/x-python",
   "name": "python",
   "nbconvert_exporter": "python",
   "pygments_lexer": "ipython3",
   "version": "3.8.10"
  }
 },
 "nbformat": 4,
 "nbformat_minor": 5
}
