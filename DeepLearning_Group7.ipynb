{
 "cells": [
  {
   "cell_type": "markdown",
   "id": "9cb9d8a4-9cec-4168-be8c-7689693b1846",
   "metadata": {},
   "source": [
    "## Het U-net "
   ]
  },
  {
   "cell_type": "markdown",
   "id": "267c1510-0710-45f8-9545-388cc0f2eb54",
   "metadata": {},
   "source": [
    "**The installations of necessary packages on the virtual machine.**"
   ]
  },
  {
   "cell_type": "code",
   "execution_count": 4,
   "id": "204833ec-0b01-4e16-b27d-2b3b021aea82",
   "metadata": {},
   "outputs": [],
   "source": [
    "# !pip install nibabel\n",
    "# !pip install medpy"
   ]
  },
  {
   "cell_type": "markdown",
   "id": "6ab2abca-6305-4dae-b82e-7c46370c003c",
   "metadata": {},
   "source": [
    "**The necessary imports of the packages that are used during the program.**"
   ]
  },
  {
   "cell_type": "code",
   "execution_count": 130,
   "id": "ad3b1525-2161-47f5-87c2-755e8ba13c49",
   "metadata": {},
   "outputs": [],
   "source": [
    "import os\n",
    "import glob\n",
    "import monai\n",
    "from PIL import Image\n",
    "import torch\n",
    "import nibabel as nib\n",
    "import matplotlib.pyplot as plt\n",
    "from tqdm import tqdm\n",
    "import numpy as np\n",
    "from skimage.restoration import denoise_tv_chambolle\n",
    "from skimage.segmentation import active_contour, find_boundaries, flood_fill\n",
    "from scipy.ndimage import binary_fill_holes, binary_closing\n",
    "from torchvision.utils import save_image"
   ]
  },
  {
   "cell_type": "markdown",
   "id": "33d1eee9-3ccb-40f6-a987-1310c8f226a0",
   "metadata": {},
   "source": [
    "**The definition of the location of the database of ACDC and verification of the datapath location.**"
   ]
  },
  {
   "cell_type": "code",
   "execution_count": 2,
   "id": "ecc87eba-7eab-451f-b2a3-e9ca34449438",
   "metadata": {},
   "outputs": [
    {
     "name": "stdout",
     "output_type": "stream",
     "text": [
      "Congrats! You selected the correct folder :)\n"
     ]
    }
   ],
   "source": [
    "data_path = \"./preprocessed_ROI_TV005_v3/\"\n",
    "if not os.path.exists(data_path):\n",
    "    print(\"Please update your data path to an existing folder.\")\n",
    "elif not set([\"training\", \"testing\"]).issubset(set(os.listdir(data_path))):\n",
    "    print(\"Please update your data path to the correct folder (should contain training and testing folders).\")\n",
    "else:\n",
    "    print(\"Congrats! You selected the correct folder :)\")"
   ]
  },
  {
   "cell_type": "markdown",
   "id": "78d2764d-fadf-48cc-b468-d7f706206c87",
   "metadata": {},
   "source": [
    "**A modification of the build dictonary function of the tutorials to make sure the ACDC database can be allocated on the right place.**"
   ]
  },
  {
   "cell_type": "code",
   "execution_count": 60,
   "id": "a1f31258-e559-4be6-a500-4d5385c3773b",
   "metadata": {
    "tags": []
   },
   "outputs": [
    {
     "name": "stderr",
     "output_type": "stream",
     "text": [
      "100%|██████████| 50/50 [00:01<00:00, 48.23it/s]"
     ]
    },
    {
     "name": "stdout",
     "output_type": "stream",
     "text": [
      "1076\n"
     ]
    },
    {
     "name": "stderr",
     "output_type": "stream",
     "text": [
      "\n"
     ]
    }
   ],
   "source": [
    "# print(img.header.structarr['pixdim'])\n",
    "\n",
    "def build_dict_ACDC(data_path, mode='training', heart_mode='Off'):\n",
    "    \"\"\"\n",
    "    This functioprintn returns a list of dictionaries, each dictionary containing the keys 'img' and 'mask' \n",
    "    that returns the path to the corresponding image.\n",
    "    \n",
    "    Args:\n",
    "        data_path (str): path to the root folder of the data set.\n",
    "        mode (str): subset used. Must correspond to 'training', 'val' or 'testing'.\n",
    "        ----heart_mode-----\n",
    "        Off: 1 dictionary of ED and ES together\n",
    "        On: 2 separate ED and ES dictionaries\n",
    "        secret: 1 dictionary of secret test set\n",
    "        \n",
    "    Returns:\n",
    "        (List[Dict[str, str]]) list of the dictionaries containing the paths of X-ray images and masks.\n",
    "    \"\"\"\n",
    "    # test if mode is correct\n",
    "    if mode not in [\"training\", \"val\", \"testing\", \"secret\"]:\n",
    "        raise ValueError(f\"Please choose a mode in ['training', 'val', 'testing', 'secret']. Current mode is {mode}.\")\n",
    "    \n",
    "    # define empty dictionary\n",
    "    dicts = []\n",
    "    dicts2 = []\n",
    "    paths_mri = []\n",
    "    iBegin = 1\n",
    "    iEnd = 101\n",
    "    \n",
    "    if (mode=='testing'):\n",
    "        iBegin = 101\n",
    "        iEnd = 151\n",
    "        \n",
    "    if (mode=='secret'):\n",
    "        iBegin = 151\n",
    "        iEnd = 176\n",
    "        \n",
    "    for i in tqdm(range(iBegin,iEnd)):\n",
    "    # list all .png files in directory, including the path\n",
    "        paths_mri.append(glob.glob(os.path.join(data_path, mode, 'patient{:03}'.format(i), '*[!gt].png')))\n",
    "        \n",
    "        # make a corresponding list for all the mask files\n",
    "        for mri_path in paths_mri[0]:\n",
    "            if (heart_mode=='secret'):\n",
    "                dicts.append({'img': mri_path})\n",
    "            mask_path = os.path.join(mri_path[0:-4]+'_gt'+ '.png')\n",
    "            \n",
    "            if os.path.exists(mask_path):\n",
    "                if (heart_mode=='Off'):\n",
    "                    dicts.append({'img': mri_path, 'mask': mask_path})\n",
    "                else:\n",
    "                    if 'ED' in mri_path:\n",
    "                        dicts.append({'img': mri_path, 'mask': mask_path})\n",
    "                    else:\n",
    "                        dicts2.append({'img': mri_path, 'mask': mask_path})\n",
    "            paths_mri.clear()\n",
    "    if (heart_mode=='Off' or heart_mode=='secret'):\n",
    "        return sorted(dicts, key=lambda d: d['img'])\n",
    "    else:\n",
    "        return sorted(dicts, key=lambda d: d['img']), sorted(dicts2, key=lambda d: d['img'])\n",
    "\n",
    "dicts = build_dict_ACDC(data_path, mode='testing', heart_mode=\"Off\")\n",
    "print(f'{len(dicts)}')"
   ]
  },
  {
   "cell_type": "markdown",
   "id": "861472bf-f951-46d1-a486-5265e6546909",
   "metadata": {},
   "source": [
    "**A modification of the LoadTranform function to make sure that only the image data is used in the DL model.**\n",
    "\n",
    "Some things are commented out for adaptation purposes later in the project"
   ]
  },
  {
   "cell_type": "code",
   "execution_count": 61,
   "id": "1fcae8ff-968a-4441-89c8-3fbe83fc504a",
   "metadata": {},
   "outputs": [],
   "source": [
    "class LoadMriData(monai.transforms.Transform):\n",
    "    \"\"\"\n",
    "    This custom Monai transform loads the data from the rib segmentation dataset.\n",
    "    Defining a custom transform is simple; just overwrite the __init__ function and __call__ function.\n",
    "    \"\"\"\n",
    "    def __init__(self, keys=None):\n",
    "        pass\n",
    "\n",
    "    def __call__(self, sample):\n",
    "        image = Image.open(sample['img']).convert('L') # import as grayscale image\n",
    "        # image = nib.load(sample['img']).get_fdata()\n",
    "        image = np.array(image, dtype=np.uint8)\n",
    "        mask = Image.open(sample['mask']).convert('L') # import as grayscale image\n",
    "        \n",
    "        # mask = nib.load(sample['mask']).get_fdata()\n",
    "        mask = np.array(mask, dtype=np.uint8)\n",
    "        \n",
    "        # mask has value 255, 170 and 85 on the different classes, put them to multi-binary\n",
    "        # mask[np.logical_and(mask>170,mask<255)]=1\n",
    "        # mask[np.logical_and(mask>0,mask<85)]=2\n",
    "        # mask[np.logical_and(mask>85,mask<170)]=3\n",
    "        \n",
    "        mask[np.where(mask==255)] = 1\n",
    "        mask[np.where(mask==85)] = 2\n",
    "        mask[np.where(mask==170)] = 3\n",
    "        # mask[np.where(mask>0 & mask <255)] = 0.5\n",
    "        return {'img': image, 'mask': mask, 'img_meta_dict': {'affine': np.eye(2)},\n",
    "                'mask_meta_dict': {'affine': np.eye(2)}}"
   ]
  },
  {
   "cell_type": "markdown",
   "id": "ba7cba7f-cf8d-47c3-b63a-4ee60285097f",
   "metadata": {},
   "source": [
    "**A function, modified from tutorials, to visualize the images together with their masks.**"
   ]
  },
  {
   "cell_type": "code",
   "execution_count": 5,
   "id": "f088f962-89a4-4c3d-872f-d37a36ebf0ea",
   "metadata": {},
   "outputs": [],
   "source": [
    "def visualize_mri_sample(sample, title=None):\n",
    "# Visualize the x-ray and overlay the mask, using the dictionary as input\n",
    "    image = np.squeeze(sample['img'])\n",
    "    mask = np.squeeze(sample['mask'])\n",
    "    \n",
    "    plt.figure(figsize=[10,7])\n",
    "\n",
    "    mask1 = np.where(mask==1,1,0)\n",
    "    mask2 = np.where(mask==2,1,0)\n",
    "    mask3= np.where(mask==3,1,0)\n",
    "    overlay_mask1 = np.ma.masked_where(mask1 == 0, mask1 == 1)\n",
    "    overlay_mask2 = np.ma.masked_where(mask2 == 0, mask2 == 1)\n",
    "    overlay_mask3 = np.ma.masked_where(mask3 == 0, mask3 == 1)\n",
    "    plt.imshow(image, 'gray')\n",
    "    plt.imshow(overlay_mask1, 'Reds', alpha = 0.7, clim=[0,1], interpolation='nearest')\n",
    "    plt.imshow(overlay_mask2, 'Blues', alpha = 0.7, clim=[0,1], interpolation='nearest')\n",
    "    plt.imshow(overlay_mask3, 'Purples', alpha = 0.7, clim=[0,1], interpolation='nearest')\n",
    "\n",
    "    if title is not None:\n",
    "        plt.title(title)\n",
    "    plt.show()\n",
    "    \n",
    "    plt.figure(figsize=[10,7])\n",
    "    plt.imshow(image, 'gray')\n",
    "    if title is not None:\n",
    "        plt.title(f'{title} without masks')\n",
    "    plt.show()"
   ]
  },
  {
   "cell_type": "code",
   "execution_count": 6,
   "id": "176daea7-e580-497d-a2ab-55b4e8e54980",
   "metadata": {},
   "outputs": [
    {
     "name": "stderr",
     "output_type": "stream",
     "text": [
      "/home/jovyan/.local/lib/python3.8/site-packages/monai/utils/deprecate_utils.py:107: FutureWarning: <class 'monai.transforms.utility.array.AddChannel'>: Class `AddChannel` has been deprecated since version 0.8. please use MetaTensor data type and monai.transforms.EnsureChannelFirst instead.\n",
      "  warn_deprecated(obj, msg, warning_category)\n"
     ]
    }
   ],
   "source": [
    "# RandScaleIntensityd(keys=\"image\", factors=0.1, prob=1.0),\n",
    "# RandShiftIntensityd(keys=\"image\", offsets=0.1, prob=1.0),\n",
    "\n",
    "basic_transform = monai.transforms.Compose([LoadMriData(),\n",
    "                                                monai.transforms.AddChanneld(keys=['img', 'mask']),\n",
    "                                                monai.transforms.ScaleIntensityd(keys=['img'],minv=0, maxv=1),\n",
    "                                                monai.transforms.RandFlipd(keys=['img', 'mask'], prob=1/2, spatial_axis=1),\n",
    "                                                ])\n",
    "\n",
    "\n",
    "composed_transform = monai.transforms.Compose([LoadMriData(),\n",
    "                                               monai.transforms.AddChanneld(keys=['img', 'mask']),\n",
    "                                               monai.transforms.NormalizeIntensityd(keys='img'),\n",
    "                                               monai.transforms.RandFlipd(keys=['img', 'mask'], prob=1/2, spatial_axis=1),\n",
    "                                               monai.transforms.RandRotated(keys=['img', 'mask'], prob=1/2, range_x=np.pi/6, mode=['bilinear','nearest']),\n",
    "                                               monai.transforms.RandScaleIntensityd(keys='img', factors=0.1, prob=1.0),\n",
    "                                               monai.transforms.RandShiftIntensityd(keys='img', offsets=0.1, prob=1.0),\n",
    "                                                ])"
   ]
  },
  {
   "cell_type": "code",
   "execution_count": 7,
   "id": "cf2179a8-c816-4c1c-8e14-b393c68d77e9",
   "metadata": {
    "pycharm": {
     "name": "#%%\n"
    }
   },
   "outputs": [],
   "source": [
    "def from_compose_to_list(transform_compose):\n",
    "    \"\"\"\n",
    "    Transform an object monai.transforms.Compose in a list fully describing the transform.\n",
    "    /!\\ Random seed is not saved, then reproducibility is not enabled.\n",
    "    \"\"\"\n",
    "    from copy import deepcopy\n",
    "        \n",
    "    if not isinstance(transform_compose, monai.transforms.Compose):\n",
    "        raise TypeError(\"transform_compose should be a monai.transforms.Compose object.\")\n",
    "    \n",
    "    output_list = list()\n",
    "    for transform in transform_compose.transforms:\n",
    "        kwargs = deepcopy(vars(transform))\n",
    "        \n",
    "        # Remove attributes which are not arguments\n",
    "        args = list(transform.__init__.__code__.co_varnames[1: transform.__init__.__code__.co_argcount])\n",
    "        for key, obj in vars(transform).items():\n",
    "            if key not in args:\n",
    "                del kwargs[key]\n",
    "\n",
    "        output_list.append({\"class\": transform.__class__, \"kwargs\": kwargs})\n",
    "    return output_list\n",
    "\n",
    "def from_list_to_compose(transform_list):\n",
    "    \"\"\"\n",
    "    Transform a list in the corresponding monai.transforms.Compose object.\n",
    "    \"\"\"\n",
    "    \n",
    "    if not isinstance(transform_list, list):\n",
    "        raise TypeError(\"transform_list should be a list.\")\n",
    "    \n",
    "    pre_compose_list = list()\n",
    "    \n",
    "    for transform_dict in transform_list:\n",
    "        if not isinstance(transform_dict, dict) or 'class' not in transform_dict or 'kwargs' not in transform_dict:\n",
    "            raise TypeError(\"transform_list should only contains dicts with keys ['class', 'kwargs']\")\n",
    "        \n",
    "        try:\n",
    "            transform = transform_dict['class'](**transform_dict['kwargs'])\n",
    "        except TypeError: # Classes have been converted to str after saving\n",
    "            transform = eval(transform_dict['class'].replace(\"__main__.\", \"\"))(**transform_dict['kwargs'])\n",
    "            \n",
    "        pre_compose_list.append(transform)\n",
    "        \n",
    "    return monai.transforms.Compose(pre_compose_list)"
   ]
  },
  {
   "cell_type": "markdown",
   "id": "ef7f4933-cb87-4c47-bfb7-a250d9f7e18c",
   "metadata": {},
   "source": [
    "**Testing the function whether they perform as intended.**"
   ]
  },
  {
   "cell_type": "code",
   "execution_count": 11,
   "id": "3446979f-bf25-4fc6-80ca-4e67d08bf768",
   "metadata": {},
   "outputs": [
    {
     "name": "stderr",
     "output_type": "stream",
     "text": [
      "100%|██████████| 100/100 [00:00<00:00, 891.73it/s]\n",
      "Loading dataset: 100%|██████████| 1902/1902 [00:08<00:00, 228.59it/s]\n",
      "100%|██████████| 50/50 [00:00<00:00, 93.04it/s] \n",
      "Loading dataset: 100%|██████████| 1076/1076 [00:04<00:00, 224.45it/s]\n"
     ]
    }
   ],
   "source": [
    "data_path = \"./preprocessed_ROI_v3/\"\n",
    "train_dict_list = build_dict_ACDC(data_path)\n",
    "train_dataset = monai.data.CacheDataset(train_dict_list, transform=composed_transform)\n",
    "\n",
    "val_dict_list = build_dict_ACDC(data_path, mode='testing')\n",
    "val_dataset = monai.data.CacheDataset(val_dict_list, transform=test_transform)"
   ]
  },
  {
   "cell_type": "code",
   "execution_count": 62,
   "id": "8268b041-e8d5-4392-a0f1-a348f407213c",
   "metadata": {
    "tags": []
   },
   "outputs": [
    {
     "name": "stdout",
     "output_type": "stream",
     "text": [
      "[0 1 2 3]\n"
     ]
    },
    {
     "data": {
      "image/png": "[encoded data removed]",
      "text/plain": [
       "<Figure size 1000x700 with 1 Axes>"
      ]
     },
     "metadata": {},
     "output_type": "display_data"
    },
    {
     "data": {
      "image/png": "[encoded data removed]",
      "text/plain": [
       "<Figure size 1000x700 with 1 Axes>"
      ]
     },
     "metadata": {},
     "output_type": "display_data"
    },
    {
     "ename": "NameError",
     "evalue": "name 'val_dataset' is not defined",
     "output_type": "error",
     "traceback": [
      "\u001b[0;31m---------------------------------------------------------------------------\u001b[0m",
      "\u001b[0;31mNameError\u001b[0m                                 Traceback (most recent call last)",
      "Cell \u001b[0;32mIn[62], line 7\u001b[0m\n\u001b[1;32m      4\u001b[0m \u001b[38;5;28mprint\u001b[39m(np\u001b[38;5;241m.\u001b[39munique(image[\u001b[38;5;124m'\u001b[39m\u001b[38;5;124mmask\u001b[39m\u001b[38;5;124m'\u001b[39m]))\n\u001b[1;32m      5\u001b[0m visualize_mri_sample(image, \u001b[38;5;124m\"\u001b[39m\u001b[38;5;124mTrain_Image \u001b[39m\u001b[38;5;124m\"\u001b[39m \u001b[38;5;241m+\u001b[39m \u001b[38;5;28mstr\u001b[39m(i))\n\u001b[0;32m----> 7\u001b[0m index \u001b[38;5;241m=\u001b[39m np\u001b[38;5;241m.\u001b[39mrandom\u001b[38;5;241m.\u001b[39mrandint(\u001b[38;5;241m0\u001b[39m, \u001b[38;5;28mlen\u001b[39m(\u001b[43mval_dataset\u001b[49m))\n\u001b[1;32m      8\u001b[0m image \u001b[38;5;241m=\u001b[39m val_dataset[index]\n\u001b[1;32m      9\u001b[0m \u001b[38;5;28mprint\u001b[39m(np\u001b[38;5;241m.\u001b[39munique(image[\u001b[38;5;124m'\u001b[39m\u001b[38;5;124mmask\u001b[39m\u001b[38;5;124m'\u001b[39m]))\n",
      "\u001b[0;31mNameError\u001b[0m: name 'val_dataset' is not defined"
     ]
    }
   ],
   "source": [
    "for i in range(3):\n",
    "    index = np.random.randint(0, len(test_set))\n",
    "    image = test_set[index]\n",
    "    print(np.unique(image['mask']))\n",
    "    visualize_mri_sample(image, \"Train_Image \" + str(i))\n",
    "    \n",
    "    index = np.random.randint(0, len(val_dataset))\n",
    "    image = val_dataset[index]\n",
    "    print(np.unique(image['mask']))\n",
    "    visualize_mri_sample(image, \"Val_Image \" + str(i))"
   ]
  },
  {
   "cell_type": "markdown",
   "id": "c3a1e3fd-290a-4de5-ab58-4a44e610cd16",
   "metadata": {},
   "source": [
    "**Create a dataloader for the corresponding data.**"
   ]
  },
  {
   "cell_type": "code",
   "execution_count": 13,
   "id": "076fac0b-ab36-47cb-9054-243330ee4630",
   "metadata": {},
   "outputs": [],
   "source": [
    "from torch.utils.data import DataLoader\n",
    "\n",
    "train_dataloader = DataLoader(train_dataset, batch_size=1, shuffle=False)\n",
    "val_dataloader = DataLoader(val_dataset, batch_size=16, shuffle=False)"
   ]
  },
  {
   "cell_type": "markdown",
   "id": "b1c87256-6710-4a59-ba79-30b9df4cfad0",
   "metadata": {},
   "source": [
    "**Visualization of preprocessing impact on 'broken' masks**"
   ]
  },
  {
   "cell_type": "code",
   "execution_count": 13,
   "id": "91ee608c-6f50-4225-ac5c-ed7d6b47462d",
   "metadata": {},
   "outputs": [],
   "source": [
    "# longMasks = []\n",
    "# for batch in tqdm(train_dataloader):\n",
    "#     masks = batch['mask']\n",
    "#     for mask in masks:\n",
    "#         if len(np.unique(mask)) > 4:\n",
    "#             mask=mask[0]\n",
    "#             print(np.unique(mask))\n",
    "#             mask[np.logical_and(mask>170,mask<255)]=1\n",
    "#             mask[np.logical_and(mask>3,mask<85)]=2\n",
    "#             mask[np.logical_and(mask>85,mask<170)]=3\n",
    "#             print(np.unique(mask))\n",
    "#             longMasks.append(mask)\n",
    "# print(longMasks[0].shape)"
   ]
  },
  {
   "cell_type": "code",
   "execution_count": 14,
   "id": "958bf831-5c0a-44e2-a0f1-acecba10c20d",
   "metadata": {
    "tags": []
   },
   "outputs": [],
   "source": [
    "# print(type(longMasks[0]))\n",
    "# for mask in longMasks:\n",
    "#     plt.imshow(mask)\n",
    "#     plt.show()\n",
    "#     print(f'       ^^ {np.unique(mask)}')"
   ]
  },
  {
   "cell_type": "markdown",
   "id": "145e609e-d2ec-4061-9b87-fb9bf2622798",
   "metadata": {},
   "source": [
    "**The selection of the correct and availble GPUs on the virtual machine.**"
   ]
  },
  {
   "cell_type": "code",
   "execution_count": 8,
   "id": "5c4e731f-4b12-4cf4-9f92-fb687ec4a55d",
   "metadata": {},
   "outputs": [],
   "source": [
    "def mean(lst):\n",
    "    return sum(lst) / len(lst)"
   ]
  },
  {
   "cell_type": "code",
   "execution_count": 10,
   "id": "d0f99157-9073-421f-942b-10b081778f0a",
   "metadata": {},
   "outputs": [
    {
     "name": "stdout",
     "output_type": "stream",
     "text": [
      "The used device is cuda:4\n"
     ]
    }
   ],
   "source": [
    "device = torch.device(\"cuda:4\" if torch.cuda.is_available() else \"cpu\")\n",
    "print(f'The used device is {device}')"
   ]
  },
  {
   "cell_type": "markdown",
   "id": "42b7a58f-e2c0-4666-bba8-320616d7f235",
   "metadata": {},
   "source": [
    "**Definition of the basic U-net model based on the tutorial.**"
   ]
  },
  {
   "cell_type": "code",
   "execution_count": 16,
   "id": "bab17942-5359-411f-aea8-e4612f257611",
   "metadata": {},
   "outputs": [],
   "source": [
    "# Things to tweak: Kernel size, channels, amt of layers (6 layers only made it worse),\n",
    "# learning rate, strides (5*2 with 6layers was worse), num res units, batch size, transforms\n",
    "\n",
    "model = monai.networks.nets.UNet(\n",
    "    spatial_dims=2,\n",
    "    in_channels=1,\n",
    "    out_channels=4,\n",
    "    channels=(8, 16, 32, 64, 128),\n",
    "    strides=(2, 2, 2, 2),\n",
    "    num_res_units=2,\n",
    ").to(device)\n",
    "\n",
    "loss_function =  monai.losses.DiceLoss(softmax=True, batch=True, to_onehot_y=True)\n",
    "optimizer = torch.optim.Adam(model.parameters(), lr=1e-3)"
   ]
  },
  {
   "cell_type": "code",
   "execution_count": null,
   "id": "c75e4dac-f50f-4305-852d-1850eb5ef845",
   "metadata": {
    "tags": []
   },
   "outputs": [
    {
     "name": "stderr",
     "output_type": "stream",
     "text": [
      "  0%|          | 0/150 [00:00<?, ?it/s]"
     ]
    },
    {
     "name": "stdout",
     "output_type": "stream",
     "text": [
      "Best val loss: 0.1006772369146347\n",
      "Best val loss: 0.09917136281728745\n"
     ]
    },
    {
     "name": "stderr",
     "output_type": "stream",
     "text": [
      "  1%|▏         | 2/150 [01:34<1:56:18, 47.15s/it]"
     ]
    }
   ],
   "source": [
    "from tqdm import tqdm\n",
    "import wandb\n",
    "import datetime\n",
    "# now = datetime.datetime.now() # current date and time\n",
    "# nu = now.strftime('%c')\n",
    "\n",
    "# run = wandb.init(\n",
    "#     project='ACDC_Segmentation',\n",
    "#     name='BasicTrans_SimpleModel_AllData_',\n",
    "#     config={\n",
    "#         'loss function': str(loss_function),\n",
    "#         'lr': optimizer.param_groups[0][\"lr\"],\n",
    "#         'transform': from_compose_to_list(composed_transform),\n",
    "#         'batch_size': train_dataloader.batch_size,\n",
    "#         'model': model,\n",
    "#     }\n",
    "# )\n",
    "# # Do not hesitate to enrich this list of settings to be able to correctly keep track of your experiments!\n",
    "# # For example you should add information on your model...\n",
    "\n",
    "# run_id = run.id # We remember here the run ID to be able to write the evaluation metrics\n",
    "\n",
    "def wandb_masks(mask_output, mask_gt):\n",
    "    \"\"\" Function that generates a mask dictionary in format that W&B requires \"\"\"\n",
    "\n",
    "    # Apply sigmoid to model ouput and round to nearest integer (0 or 1)\n",
    "    # sigmoid = torch.nn.Sigmoid()\n",
    "    # mask_output = sigmoid(mask_output)\n",
    "    # mask_output = torch.round(mask_output)\n",
    "\n",
    "    # Transform masks to numpy arrays on CPU\n",
    "    # Note: .squeeze() removes all dimensions with a size of 1 (here, it makes the tensors 2-dimensional)\n",
    "    # Note: .detach() removes a tensor from the computational graph to prevent gradient computation for it\n",
    "    mask_output = mask_output.squeeze()\n",
    "    mask_gt = mask_gt.squeeze().detach().cpu().numpy()\n",
    "\n",
    "    # Create mask dictionary with class label and insert masks\n",
    "    class_labels = {1: 'left-ventricle', 2: 'right-ventricle', 3: 'myocardium'}\n",
    "    masks = {\n",
    "        'predictions': {'mask_data': mask_output, 'class_labels': class_labels},\n",
    "        'ground truth': {'mask_data': mask_gt, 'class_labels': class_labels}\n",
    "    }\n",
    "    return masks\n",
    "\n",
    "def log_to_wandb(epoch, train_loss, val_loss, batch_data, outputs):\n",
    "    \"\"\" Function that logs ongoing training variables to W&B \"\"\"\n",
    "\n",
    "    # Create list of images that have segmentation masks for model output and ground truth\n",
    "    log_imgs = [wandb.Image(img, masks=wandb_masks(mask_output, mask_gt)) for img, mask_output,\n",
    "                mask_gt in zip(batch_data['img'], outputs, batch_data['mask'])]\n",
    "\n",
    "    # Send epoch, losses and images to W&B\n",
    "    wandb.log({'epoch': epoch, 'train_loss': train_loss, 'val_loss': val_loss, 'results': log_imgs})\n",
    "\n",
    "# ⌨️ WRITE YOUR TRAINING LOOP HERE\n",
    "from tqdm import tqdm\n",
    "\n",
    "def train_medmnist(model, train_dataloader, val_dataloader, optimizer, epochs, device, val_freq=1):\n",
    "    train_loss = []\n",
    "    val_loss = []\n",
    "    best_dice = -1\n",
    "    best_loss = 10\n",
    "    \n",
    "    for epoch in tqdm(range(epochs)):\n",
    "        model.train()\n",
    "        steps = 0\n",
    "        epoch_loss = 0\n",
    "\n",
    "        for batch in train_dataloader:\n",
    "            optimizer.zero_grad()\n",
    "            images = batch['img'].float().to(device)\n",
    "            labels = batch['mask'].float().to(device)\n",
    "            output = model(images)\n",
    "            loss = loss_function(output, labels)\n",
    "            epoch_loss += loss.item()\n",
    "            loss.backward()\n",
    "            optimizer.step()\n",
    "            steps += 1\n",
    "            train_ep_loss = epoch_loss/steps\n",
    "        train_loss.append(epoch_loss/steps)\n",
    "\n",
    "        # validation loop\n",
    "        if epoch % val_freq == 0:\n",
    "            steps = 0\n",
    "            val_epoch_loss = 0\n",
    "            model.eval()\n",
    "            for batch in val_dataloader:\n",
    "                optimizer.zero_grad()\n",
    "                images = batch['img'].float().to(device)\n",
    "                labels = batch['mask'].float().to(device)\n",
    "                output = model(images)\n",
    "                loss = loss_function(output, labels)\n",
    "                val_epoch_loss += loss.item()\n",
    "                steps += 1\n",
    "                val_ep_loss = val_epoch_loss/steps\n",
    "\n",
    "                # ---------- OLD DICE SCORE -----------\n",
    "                # Run images through inferer and transform for Dice score calculation\n",
    "                # batch_dices = []\n",
    "                # inferer = monai.inferers.SimpleInferer()\n",
    "                # discrete_transform = monai.transforms.AsDiscrete(argmax = True)\n",
    "                # Softmax = torch.nn.Softmax()\n",
    "                # diceImages = batch['img'].float().to(device)\n",
    "\n",
    "#                 for image in diceImages:\n",
    "#                     with torch.no_grad():\n",
    "#                         output = discrete_transform(Softmax(model(image).cpu())).squeeze()\n",
    "#                     dice_mask = np.argmax(output, axis=0)\n",
    "\n",
    "#                     print(f'dicemask: {np.unique(dice_mask)}, gtmask: {np.unique(labels[i])}')\n",
    "\n",
    "#                     #Calculate mean Dice score for validation batch\n",
    "#                     dice = metrics(labels[i], dice_mask)\n",
    "#                     print(dice)\n",
    "#                     batch_dices.append(dice)\n",
    "#                 mean_dice = mean(batch_dices)\n",
    "\n",
    "                # Save the network if its Dice score is better than the current best\n",
    "                if val_ep_loss < best_loss:\n",
    "                    best_loss = val_ep_loss\n",
    "                    print(f'Best val loss: {best_loss}')\n",
    "                    torch.save(model.state_dict(), r'ACDC_Best_ROI.pt')\n",
    "\n",
    "            val_loss.append(val_ep_loss)\n",
    "        # log_to_wandb(epoch, train_ep_loss, val_ep_loss, batch, output)\n",
    "\n",
    "    return train_loss, val_loss, model\n",
    "\n",
    "val_freq = 5\n",
    "n_epochs = 150\n",
    "\n",
    "train_loss, val_loss, model = train_medmnist(model, train_dataloader, val_dataloader, optimizer, n_epochs, device, val_freq)\n",
    "\n",
    "torch.save(model.state_dict(), r'ACDC_Last_ROI.pt')\n",
    "# run.finish()"
   ]
  },
  {
   "cell_type": "code",
   "execution_count": 10,
   "id": "65dd6127-459b-481c-8784-38e8802e6c66",
   "metadata": {},
   "outputs": [
    {
     "ename": "NameError",
     "evalue": "name 'train_loss' is not defined",
     "output_type": "error",
     "traceback": [
      "\u001b[0;31m---------------------------------------------------------------------------\u001b[0m",
      "\u001b[0;31mNameError\u001b[0m                                 Traceback (most recent call last)",
      "Cell \u001b[0;32mIn[10], line 4\u001b[0m\n\u001b[1;32m      1\u001b[0m \u001b[38;5;66;03m# Plot training and validation loss\u001b[39;00m\n\u001b[1;32m      3\u001b[0m plt\u001b[38;5;241m.\u001b[39mfigure()\n\u001b[0;32m----> 4\u001b[0m plt\u001b[38;5;241m.\u001b[39mplot(\u001b[43mtrain_loss\u001b[49m, label\u001b[38;5;241m=\u001b[39m\u001b[38;5;124m'\u001b[39m\u001b[38;5;124mTraining loss\u001b[39m\u001b[38;5;124m'\u001b[39m)\n\u001b[1;32m      5\u001b[0m plt\u001b[38;5;241m.\u001b[39mplot(np\u001b[38;5;241m.\u001b[39mlinspace(\u001b[38;5;241m0\u001b[39m, n_epochs, \u001b[38;5;28mint\u001b[39m(n_epochs\u001b[38;5;241m/\u001b[39mval_freq)), val_loss, label\u001b[38;5;241m=\u001b[39m\u001b[38;5;124m'\u001b[39m\u001b[38;5;124mValidation loss\u001b[39m\u001b[38;5;124m'\u001b[39m)\n\u001b[1;32m      6\u001b[0m plt\u001b[38;5;241m.\u001b[39mxlabel(\u001b[38;5;124m'\u001b[39m\u001b[38;5;124mEpoch\u001b[39m\u001b[38;5;124m'\u001b[39m)\n",
      "\u001b[0;31mNameError\u001b[0m: name 'train_loss' is not defined"
     ]
    },
    {
     "data": {
      "text/plain": [
       "<Figure size 640x480 with 0 Axes>"
      ]
     },
     "metadata": {},
     "output_type": "display_data"
    }
   ],
   "source": [
    "# Plot training and validation loss\n",
    "\n",
    "plt.figure()\n",
    "plt.plot(train_loss, label='Training loss')\n",
    "plt.plot(np.linspace(0, n_epochs, int(n_epochs/val_freq)), val_loss, label='Validation loss')\n",
    "plt.xlabel('Epoch')\n",
    "plt.ylabel('Loss')\n",
    "plt.legend()\n",
    "plt.show()"
   ]
  },
  {
   "cell_type": "code",
   "execution_count": 69,
   "id": "fe09f90d-d611-4158-bfad-d4123d2c8acf",
   "metadata": {},
   "outputs": [
    {
     "name": "stdout",
     "output_type": "stream",
     "text": [
      "Congrats! You selected the correct folder :)\n"
     ]
    }
   ],
   "source": [
    "data_path = \"./preprocessed/\"\n",
    "if not os.path.exists(data_path):\n",
    "    print(\"Please update your data path to an existing folder.\")\n",
    "elif not set([\"training\", \"testing\"]).issubset(set(os.listdir(data_path))):\n",
    "    print(\"Please update your data path to the correct folder (should contain training and testing folders).\")\n",
    "else:\n",
    "    print(\"Congrats! You selected the correct folder :)\")"
   ]
  },
  {
   "cell_type": "code",
   "execution_count": 70,
   "id": "4ba278ee-1bb6-4d18-81e9-20a060bda03f",
   "metadata": {
    "tags": []
   },
   "outputs": [
    {
     "name": "stderr",
     "output_type": "stream",
     "text": [
      "100%|██████████| 50/50 [00:00<00:00, 262.12it/s]\n"
     ]
    },
    {
     "name": "stdout",
     "output_type": "stream",
     "text": [
      "1076\n"
     ]
    },
    {
     "name": "stderr",
     "output_type": "stream",
     "text": [
      "Loading dataset: 100%|██████████| 1076/1076 [00:14<00:00, 76.26it/s]\n"
     ]
    }
   ],
   "source": [
    "test_dict = build_dict_ACDC(data_path, mode='testing')\n",
    "print(len(test_dict))\n",
    "test_transform = monai.transforms.Compose([\n",
    "                                           LoadMriData(),\n",
    "                                           monai.transforms.AddChanneld(keys=['img', 'mask']),\n",
    "                                           monai.transforms.NormalizeIntensityd(keys=['img']),\n",
    "                                           # monai.transforms.Zoomd(keys=['img', 'mask'], zoom=0.25, keep_size=False, mode=['bilinear', 'nearest']),\n",
    "                                           # monai.transforms.Resized(keys = ['img','mask'],spatial_size=(1024,1024), mode=['bilinear','nearest'])\n",
    "                                            ])\n",
    "test_set = monai.data.CacheDataset(test_dict, transform=test_transform)\n",
    "test_loader = monai.data.DataLoader(test_set, batch_size=1)"
   ]
  },
  {
   "cell_type": "code",
   "execution_count": 90,
   "id": "e52735dd-3970-426d-b902-12696300d7a4",
   "metadata": {},
   "outputs": [
    {
     "name": "stdout",
     "output_type": "stream",
     "text": [
      "ROI model loaded\n",
      "Segmentation model loaded\n"
     ]
    }
   ],
   "source": [
    "roiModel = monai.networks.nets.UNet(\n",
    "    kernel_size=21,\n",
    "    up_kernel_size=21,\n",
    "    spatial_dims=2,\n",
    "    in_channels=1,\n",
    "    out_channels=1,\n",
    "    channels=(8, 16, 32, 64, 128),\n",
    "    strides=(2, 2, 2, 2),\n",
    "    num_res_units=2,\n",
    ").to(device)\n",
    "\n",
    "roiModel.load_state_dict(torch.load(\"trainedUNetROI_Final.pt\"))\n",
    "roiModel.eval()\n",
    "print(\"ROI model loaded\")\n",
    "\n",
    "model = monai.networks.nets.UNet(\n",
    "    spatial_dims=2,\n",
    "    in_channels=1,\n",
    "    out_channels=4,\n",
    "    channels=(8, 16, 32, 64, 128),\n",
    "    strides=(2, 2, 2, 2),\n",
    "    num_res_units=2,\n",
    ").to(device)\n",
    "\n",
    "model.load_state_dict(torch.load(\"ACDC_Best_NewTrans.pt\"))\n",
    "model.eval()\n",
    "print(\"Segmentation model loaded\")"
   ]
  },
  {
   "cell_type": "code",
   "execution_count": 91,
   "id": "51451a1a-b277-40fd-abea-3898b05ef5ea",
   "metadata": {},
   "outputs": [],
   "source": [
    "from skimage.measure import regionprops, label\n",
    "import matplotlib as mpl\n",
    "import matplotlib.pyplot as plt\n",
    "%matplotlib inline\n",
    "## function for finding the largest connected component and it's centre\n",
    "## make ROI around centre of size:\n",
    "\n",
    "# According to Gray’s Anatomy, the heart length, width, and thickness are 12 cm, 8.5 cm, and 6 cm, respectively, doi: 10.15171/jcvtr.2016.25\n",
    "target_resolution = (1.36719, 1.36719)\n",
    "\n",
    "def get_ROI(image):\n",
    "    # Give as an input an image (in the form of a dictionary with labels 'img'and 'mask) \n",
    "    # and outputs an ROI centred around the centre of mass of the heart. \n",
    "    # Second input is the resolutoin (mm/pixel) of the input image.\n",
    "    \n",
    "    # split input into image and mask\n",
    "    im = image['img']\n",
    "    mask = image['mask']\n",
    "    \n",
    "    # find target size of ROI, based on pixel size (mm/pixel) and maximum expected size of heart (doi: 10.15171/jcvtr.2016.25)\n",
    "    nr = int(128/2) # number of rows/2\n",
    "    nc = int(128/2) # number of columns/2\n",
    "\n",
    "    if len(np.unique(mask))==1:                                            # if there is no heart in the image, just use the central part of the image as an ROI\n",
    "        labels = label(mask,background=1)                                  # find all connected components\n",
    "        largestCC = labels == np.argmax(np.bincount(labels.flat)[1:])+1    # largest connected components\n",
    "        mask = largestCC*1                                                 # True --> 1, False --> 0     \n",
    "        properties = regionprops(mask.astype(int))                         # Geometrical properties of image\n",
    "        com = np.round(properties[0].centroid).astype(int)                 # Centre of mass = centre of image in this specific case\n",
    "        com_r = com[0]                                                     # row index\n",
    "        com_c = com[1]                                                     # column index\n",
    "        ROI_mask = mask[(com_r-nr):(com_r+nr),(com_c-nc):(com_c+nc)]     # ROI mask\n",
    "        ROI_mask = 0*ROI_mask\n",
    "        im = im.squeeze()\n",
    "        ROI = im[(com_r-nr):(com_r+nr),(com_c-nc):(com_c+nc)]            # ROI of grey scale image\n",
    "        \n",
    "    else:                                                                  # if heart is present\n",
    "        # Find Largest connected component:\n",
    "        labels = label(mask)                                               # find all connected components\n",
    "        largestCC = labels == np.argmax(np.bincount(labels.flat)[1:])+1    # largest connected components\n",
    "        largestCC = largestCC*1                                            # True --> 1, False --> 0\n",
    "        properties = regionprops(largestCC)                                # Geometrical properties of largest connected component\n",
    "        com = np.round(properties[0].centroid).astype(int)                 # Centre of mass\n",
    "        com_r = com[0]                                                     # row index\n",
    "        com_c = com[1]                                                     # column index\n",
    "        ROI_mask = largestCC[(com_r-nr):(com_r+nr),(com_c-nc):(com_c+nc)]\n",
    "        im = im.squeeze()\n",
    "        ROI = im[(com_r-nr):(com_r+nr),(com_c-nc):(com_c+nc)]    \n",
    "    # plt.figure()\n",
    "    # plt.imshow(np.squeeze(ROI),'gray')\n",
    "    # overlay_mask = np.ma.masked_where(ROI_mask==0, ROI_mask)\n",
    "    # plt.imshow(overlay_mask, 'Reds', alpha = 0.5, clim=[0,1], interpolation='nearest')\n",
    "    # plt.scatter(x=nc, y=nr, c='g', s=40)\n",
    "    # plt.figure()\n",
    "    \n",
    "    return ROI, com_r, com_c"
   ]
  },
  {
   "cell_type": "code",
   "execution_count": 92,
   "id": "a59bd4a9-affa-46dc-871f-eccd6deeadf9",
   "metadata": {
    "tags": []
   },
   "outputs": [],
   "source": [
    "from medpy.metric.binary import hd, dc\n",
    "def metrics(img_gt, img_pred, voxel_size):\n",
    "    \"\"\"\n",
    "    Function to compute the metrics between two segmentation maps given as input.\n",
    "    ----------\n",
    "    \n",
    "    Abbreviations:\n",
    "    ----------\n",
    "    LV: left ventricle\n",
    "    RV: right ventricle\n",
    "    MYO: myocardium\n",
    "    \n",
    "    Parameters\n",
    "    ----------\n",
    "    img_gt: np.array\n",
    "    Array of the ground truth segmentation map.  (LV --> class 3, RV --> class 1, myocardium --> class 2)\n",
    "\n",
    "    img_pred: np.array\n",
    "    Array of the predicted segmentation map.\n",
    "\n",
    "    voxel_size: list, tuple or np.array\n",
    "    The size of a voxel of the images used to compute the volumes (in mm).\n",
    "    \n",
    "    For example: for voxels of size 2mm by  1mm by 8mm, use voxel_size = np.array([2 1 8])\n",
    "\n",
    "    Return\n",
    "    ------\n",
    "    A list of metrics in this order, [Dice LV, Volume LV, Err LV(ml),\n",
    "    Dice RV, Volume RV, Err RV(ml), Dice MYO, Volume MYO, Err MYO(ml)]\n",
    "    \"\"\"\n",
    "\n",
    "    if img_gt.ndim != img_pred.ndim:\n",
    "        raise ValueError(\"The arrays 'img_gt' and 'img_pred' should have the \"\n",
    "                         \"same dimension, {} against {}\".format(img_gt.ndim,\n",
    "                                                                img_pred.ndim))\n",
    "\n",
    "    lv = 0\n",
    "    rv = 0\n",
    "    myo = 0\n",
    "    dices = []\n",
    "    hds = []\n",
    "    voxel_size = float(voxel_size)\n",
    "    \n",
    "    # Loop on each classes of the input images\n",
    "    for c in [3, 1, 2]:\n",
    "        # Copy the gt image to not alterate the input\n",
    "        gt_c_i = np.copy(img_gt)\n",
    "        gt_c_i[gt_c_i != c] = 0\n",
    "\n",
    "        # Copy the pred image to not alterate the input\n",
    "        pred_c_i = np.copy(img_pred)\n",
    "        pred_c_i[pred_c_i != c] = 0\n",
    "\n",
    "        # Clip the value to compute the volumes\n",
    "        gt_c_i = np.clip(gt_c_i, 0, 1)\n",
    "        pred_c_i = np.clip(pred_c_i, 0, 1)\n",
    "        \n",
    "        # Compute the Dice\n",
    "        dice = dc(pred_c_i, gt_c_i)\n",
    "        \n",
    "        # Save the dice score per class\n",
    "        if c==3:\n",
    "            lv = dice\n",
    "        elif c==1:\n",
    "            rv = dice\n",
    "        elif c==2:\n",
    "            myo = dice\n",
    "\n",
    "        # Append to this list to calculate mean dice\n",
    "        dices.append(dice)\n",
    "\n",
    "        # Compute Hausdorff Distance\n",
    "        hausdorf = hd(pred_c_i, gt_c_i)\n",
    "        hds.append(hausdorf)\n",
    "\n",
    "        # Compute volume\n",
    "        volpred = pred_c_i.sum() * np.prod(voxel_size) / 1000.\n",
    "        volgt = gt_c_i.sum() * np.prod(voxel_size) / 1000.\n",
    "        \n",
    "    return mean(dices), lv, rv, myo, hausdorf, volpred, volpred-volgt"
   ]
  },
  {
   "cell_type": "code",
   "execution_count": 93,
   "id": "1c0b65bd-706a-4703-a4d8-2b8fd28fda8c",
   "metadata": {},
   "outputs": [],
   "source": [
    "def evaluation(img, mask, seg, model, visual=False):\n",
    "    \"\"\"\n",
    "    Given a model, calculate the dice score of a sample image and ground truth pair.\n",
    "    Model will be used to create a predicted mask, dice score is calculated between this and ground truth.\n",
    "    \n",
    "    If visual=True:\n",
    "    Allow the visual inspection of one sample by plotting the X-ray image, the ground truth (green)\n",
    "    and the segmentation map produced by the network (red).\n",
    "    \n",
    "    Args:\n",
    "        sample (Dict[str, torch.Tensor]): sample composed of an X-ray ('img') and a mask ('mask').\n",
    "        model (torch.nn.Module): trained model to evaluate.\n",
    "        visual (Boolean): True if you want to see the predicted masks visualized -> will take much longer\n",
    "    \"\"\"\n",
    "    \n",
    "    # infer output of network\n",
    "    model.eval()\n",
    "    inferer = monai.inferers.SimpleInferer()\n",
    "    Softmax = torch.nn.Softmax()\n",
    "    \n",
    "    with torch.no_grad():\n",
    "        output = Softmax(inferer(sample['img'].float().to(device), network=model).cpu()).squeeze().detach().numpy()\n",
    "    classes = np.argmax(output, axis=0)  # find class with highest probabillity per pixel\n",
    "    \n",
    "    if visual:\n",
    "        # print(f'For image below, dice = {dice}')\n",
    "        fig, ax = plt.subplots(1,3, figsize = [12, 10])\n",
    "\n",
    "        # mask = ground truth segmentation\n",
    "        mask = np.squeeze(mask)\n",
    "        \n",
    "        # create mask for background\n",
    "        overlay_mask1 = np.ma.masked_where(mask!=1, mask)\n",
    "        overlay_mask2 = np.ma.masked_where(mask!=2 ,mask)\n",
    "        overlay_mask3 = np.ma.masked_where(mask!=3, mask)\n",
    "\n",
    "        # Plot MRI image\n",
    "        ax[0].imshow(img.squeeze(), 'gray')\n",
    "        ax[0].set_title('Grey scale MRI')\n",
    "\n",
    "        # Plot ground truth\n",
    "        ax[1].imshow(img.squeeze(), 'gray')\n",
    "        ax[1].imshow(overlay_mask1, 'Reds', alpha = 0.7, clim=[0,1], interpolation='nearest')\n",
    "        ax[1].imshow(overlay_mask2, 'Blues', alpha = 0.7, clim=[0,1], interpolation='nearest')\n",
    "        ax[1].imshow(overlay_mask3, 'Greens', alpha = 0.7, clim=[0,1], interpolation='nearest')\n",
    "        ax[1].set_title('Ground truth')\n",
    "\n",
    "        mask = np.squeeze(seg) # rename (because code for ground truth was copied, and there I named them 'mask' instead of 'classes')\n",
    "        # select the different components (= value 1, 2 or 3 for myo, LV and RV)\n",
    "        \n",
    "        # create mask for background\n",
    "        overlay_mask1 = np.ma.masked_where(mask!=1, mask)\n",
    "        overlay_mask2 = np.ma.masked_where(mask!=2 ,mask)\n",
    "        overlay_mask3 = np.ma.masked_where(mask!=3, mask)\n",
    "\n",
    "        ax[2].imshow(img.squeeze(), 'gray')\n",
    "        ax[2].imshow(overlay_mask1, 'Reds', alpha = 0.7, clim=[0,1], interpolation='nearest')\n",
    "        ax[2].imshow(overlay_mask2, 'Blues', alpha = 0.7, clim=[0,1], interpolation='nearest')\n",
    "        ax[2].imshow(overlay_mask3, 'Greens', alpha = 0.7, clim=[0,1], interpolation='nearest')\n",
    "        ax[2].set_title('Prediction')\n",
    "        plt.show()\n",
    "    \n",
    "    return classes"
   ]
  },
  {
   "cell_type": "code",
   "execution_count": 94,
   "id": "f327ce12-0994-4ed6-a1f2-301a9b2e0415",
   "metadata": {},
   "outputs": [],
   "source": [
    "def ac_mask(mask, img):\n",
    "    '''\n",
    "    This function applied an active contour model to the segmentation mask.\n",
    "    It outputs a segmentation mask with 3 classes.\n",
    "    mask_path: datapath to the mask\n",
    "    image_path: datapath to the image corresponding to the mask\n",
    "    '''\n",
    "    # mask = Image.open(mask_path).convert('L')\n",
    "    mask = np.array(mask, dtype=np.uint8)\n",
    "    \n",
    "    # img = Image.open(img_path).convert('L')\n",
    "    print(np.unique(img))\n",
    "    img = np.array(img, dtype=np.uint8)\n",
    "    print(np.unique(img))\n",
    "    # print(img.shape)\n",
    "    # plt.imshow(img)\n",
    "    # plt.show()\n",
    "    \n",
    "    nx, ny = mask.shape\n",
    "    \n",
    "    # Find boundaries of each mask\n",
    "    init = mask*find_boundaries(mask, mode='inner')\n",
    "    init_1 = init*(init == 1)\n",
    "    init_2 = init*(init == 2)\n",
    "    init_3 = init*(init == 3)\n",
    "    \n",
    "    # Mask 1\n",
    "    # Find coordinates of boundary\n",
    "    indeces1 = np.where(init_1 == 1)\n",
    "    xy_coords1 = np.column_stack(indeces1)\n",
    "    \n",
    "    # Apply AC\n",
    "    snake1 = active_contour(img,\n",
    "                       xy_coords1, alpha=0.015, beta=10, gamma=0.000001, w_line=-1)\n",
    "    \n",
    "    new_mask1 = np.zeros((nx, ny))\n",
    "    \n",
    "    # Build new boundary from snake coordinates\n",
    "    for i, j in snake1:\n",
    "        new_mask1[int(i), int(j)] = 1\n",
    "    \n",
    "    # Fill the mask\n",
    "    new_mask1 = binary_fill_holes(new_mask1)\n",
    "    \n",
    "    # Mask 2\n",
    "    # Find coordinates of boundary\n",
    "    indeces2 = np.where(init_2 == 2)\n",
    "    xy_coords2 = np.column_stack(indeces2)\n",
    "    \n",
    "    # Apply AC\n",
    "    snake2 = active_contour(img,\n",
    "                       xy_coords2, alpha=0.015, beta=10, gamma=0.000001, w_line=-1)\n",
    "    \n",
    "    new_mask2 = np.zeros((nx, ny))\n",
    "    \n",
    "    # Build new boundary from snake coordinates\n",
    "    for i, j in snake2:\n",
    "        new_mask2[int(i), int(j)] = 1\n",
    "    \n",
    "    # Fill the mask\n",
    "    new_mask2 = binary_closing(new_mask2, structure=np.ones((10,10)))\n",
    "    \n",
    "    # Set to right class\n",
    "    new_mask2 = new_mask2*2\n",
    "    \n",
    "    # Mask 3\n",
    "    # Find coordinates of boundary\n",
    "    indeces3 = np.where(init_3 == 3)\n",
    "    xy_coords3 = np.column_stack(indeces3)\n",
    "    \n",
    "    # Apply AC\n",
    "    snake3 = active_contour(img,\n",
    "                       xy_coords3, alpha=0.015, beta=10, gamma=0.0000001, w_line=-1)\n",
    "    \n",
    "    new_mask3 = np.zeros((nx, ny))\n",
    "    \n",
    "    # Build new boundary from snake coordinates\n",
    "    for i, j in snake3:\n",
    "        new_mask3[int(i), int(j)] = 1\n",
    "\n",
    "    # Fill the mask\n",
    "    new_mask3 = binary_fill_holes(new_mask3)\n",
    "    \n",
    "    # Set to right class\n",
    "    new_mask3 = new_mask3*3\n",
    "    \n",
    "    # Combine mask 1 and 2\n",
    "    new_mask = new_mask1+new_mask2\n",
    "    \n",
    "    # If they overlap, choose mask 2\n",
    "    new_mask[new_mask == 3] = 2\n",
    "    \n",
    "    # Add mask 3\n",
    "    new_mask = new_mask+new_mask3\n",
    "    \n",
    "    # If they overlap, choose mask 3\n",
    "    new_mask[new_mask > 3] = 3\n",
    "    \n",
    "    return new_mask"
   ]
  },
  {
   "cell_type": "code",
   "execution_count": 157,
   "id": "7c36bf38-7aed-4a29-8c67-94f76fe4e774",
   "metadata": {
    "tags": []
   },
   "outputs": [
    {
     "name": "stderr",
     "output_type": "stream",
     "text": [
      "  0%|          | 0/1076 [00:00<?, ?it/s]/home/jovyan/.local/lib/python3.8/site-packages/monai/utils/deprecate_utils.py:107: FutureWarning: <class 'monai.transforms.utility.array.AddChannel'>: Class `AddChannel` has been deprecated since version 0.8. please use MetaTensor data type and monai.transforms.EnsureChannelFirst instead.\n",
      "  warn_deprecated(obj, msg, warning_category)\n",
      "/tmp/ipykernel_58923/77099441.py:38: UserWarning: Implicit dimension choice for softmax has been deprecated. Change the call to include dim=X as an argument.\n",
      "  output = Softmax(inferer(torch.from_numpy(np.resize(addchannel(ROI), (1,1,128,128))).float().to(device), network=model).cpu()).squeeze().detach().numpy()\n",
      "  2%|▏         | 21/1076 [00:03<07:11,  2.45it/s]"
     ]
    },
    {
     "name": "stdout",
     "output_type": "stream",
     "text": [
      "0.8790449982415464\n"
     ]
    },
    {
     "name": "stderr",
     "output_type": "stream",
     "text": [
      "  4%|▎         | 38/1076 [00:06<04:18,  4.02it/s]"
     ]
    },
    {
     "name": "stdout",
     "output_type": "stream",
     "text": [
      "0.9168177740238773\n"
     ]
    },
    {
     "name": "stderr",
     "output_type": "stream",
     "text": [
      "  5%|▌         | 55/1076 [00:09<06:47,  2.51it/s]"
     ]
    },
    {
     "name": "stdout",
     "output_type": "stream",
     "text": [
      "0.8323531695065546\n"
     ]
    },
    {
     "name": "stderr",
     "output_type": "stream",
     "text": [
      "  7%|▋         | 73/1076 [00:14<06:12,  2.70it/s]"
     ]
    },
    {
     "name": "stdout",
     "output_type": "stream",
     "text": [
      "0.8192209693969827\n"
     ]
    },
    {
     "name": "stderr",
     "output_type": "stream",
     "text": [
      "  9%|▉         | 95/1076 [00:17<03:00,  5.43it/s]"
     ]
    },
    {
     "name": "stdout",
     "output_type": "stream",
     "text": [
      "0.8816436445904473\n"
     ]
    },
    {
     "name": "stderr",
     "output_type": "stream",
     "text": [
      " 10%|█         | 111/1076 [00:19<04:49,  3.33it/s]"
     ]
    },
    {
     "name": "stdout",
     "output_type": "stream",
     "text": [
      "0.6661732814264707\n"
     ]
    },
    {
     "name": "stderr",
     "output_type": "stream",
     "text": [
      " 12%|█▏        | 130/1076 [00:27<05:37,  2.80it/s]"
     ]
    },
    {
     "name": "stdout",
     "output_type": "stream",
     "text": [
      "0.7616812317345846\n"
     ]
    },
    {
     "name": "stderr",
     "output_type": "stream",
     "text": [
      " 14%|█▍        | 149/1076 [00:30<07:12,  2.14it/s]"
     ]
    },
    {
     "name": "stdout",
     "output_type": "stream",
     "text": [
      "0.7726233417274062\n"
     ]
    },
    {
     "name": "stderr",
     "output_type": "stream",
     "text": [
      " 16%|█▌        | 167/1076 [00:36<03:45,  4.02it/s]"
     ]
    },
    {
     "name": "stdout",
     "output_type": "stream",
     "text": [
      "0.8031042573701009\n"
     ]
    },
    {
     "name": "stderr",
     "output_type": "stream",
     "text": [
      " 17%|█▋        | 184/1076 [00:38<03:43,  4.00it/s]"
     ]
    },
    {
     "name": "stdout",
     "output_type": "stream",
     "text": [
      "0.8450410865978452\n"
     ]
    },
    {
     "name": "stderr",
     "output_type": "stream",
     "text": [
      " 18%|█▊        | 196/1076 [00:40<02:51,  5.12it/s]"
     ]
    },
    {
     "name": "stdout",
     "output_type": "stream",
     "text": [
      "0.8488731437702356\n"
     ]
    },
    {
     "name": "stderr",
     "output_type": "stream",
     "text": [
      " 20%|█▉        | 215/1076 [00:43<06:13,  2.30it/s]"
     ]
    },
    {
     "name": "stdout",
     "output_type": "stream",
     "text": [
      "0.8122402364908491\n"
     ]
    },
    {
     "name": "stderr",
     "output_type": "stream",
     "text": [
      " 22%|██▏       | 236/1076 [00:48<03:58,  3.53it/s]"
     ]
    },
    {
     "name": "stdout",
     "output_type": "stream",
     "text": [
      "0.7772944824851545\n"
     ]
    },
    {
     "name": "stderr",
     "output_type": "stream",
     "text": [
      " 24%|██▍       | 258/1076 [00:51<03:55,  3.48it/s]"
     ]
    },
    {
     "name": "stdout",
     "output_type": "stream",
     "text": [
      "0.6221441295640573\n"
     ]
    },
    {
     "name": "stderr",
     "output_type": "stream",
     "text": [
      " 26%|██▌       | 278/1076 [00:56<06:57,  1.91it/s]"
     ]
    },
    {
     "name": "stdout",
     "output_type": "stream",
     "text": [
      "0.8980528826221877\n"
     ]
    },
    {
     "name": "stderr",
     "output_type": "stream",
     "text": [
      " 28%|██▊       | 298/1076 [00:59<03:45,  3.45it/s]"
     ]
    },
    {
     "name": "stdout",
     "output_type": "stream",
     "text": [
      "0.8943480148313424\n"
     ]
    },
    {
     "name": "stderr",
     "output_type": "stream",
     "text": [
      " 30%|██▉       | 319/1076 [01:02<02:39,  4.75it/s]"
     ]
    },
    {
     "name": "stdout",
     "output_type": "stream",
     "text": [
      "0.6575907320770944\n"
     ]
    },
    {
     "name": "stderr",
     "output_type": "stream",
     "text": [
      " 31%|███       | 335/1076 [01:05<03:22,  3.66it/s]"
     ]
    },
    {
     "name": "stdout",
     "output_type": "stream",
     "text": [
      "0.8657772379130355\n"
     ]
    },
    {
     "name": "stderr",
     "output_type": "stream",
     "text": [
      " 34%|███▍      | 369/1076 [01:14<06:39,  1.77it/s]"
     ]
    },
    {
     "name": "stdout",
     "output_type": "stream",
     "text": [
      "0.8650797010949285\n"
     ]
    },
    {
     "name": "stderr",
     "output_type": "stream",
     "text": [
      " 36%|███▌      | 387/1076 [01:21<07:56,  1.45it/s]"
     ]
    },
    {
     "name": "stdout",
     "output_type": "stream",
     "text": [
      "0.7453139139210317\n"
     ]
    },
    {
     "name": "stderr",
     "output_type": "stream",
     "text": [
      " 38%|███▊      | 404/1076 [01:25<03:59,  2.81it/s]"
     ]
    },
    {
     "name": "stdout",
     "output_type": "stream",
     "text": [
      "0.8002075832584307\n"
     ]
    },
    {
     "name": "stderr",
     "output_type": "stream",
     "text": [
      " 39%|███▉      | 422/1076 [01:28<02:48,  3.88it/s]"
     ]
    },
    {
     "name": "stdout",
     "output_type": "stream",
     "text": [
      "0.82114059706031\n"
     ]
    },
    {
     "name": "stderr",
     "output_type": "stream",
     "text": [
      " 41%|████      | 437/1076 [01:31<05:04,  2.10it/s]"
     ]
    },
    {
     "name": "stdout",
     "output_type": "stream",
     "text": [
      "0.8807582929033851\n"
     ]
    },
    {
     "name": "stderr",
     "output_type": "stream",
     "text": [
      " 45%|████▍     | 481/1076 [01:46<05:30,  1.80it/s]"
     ]
    },
    {
     "name": "stdout",
     "output_type": "stream",
     "text": [
      "0.8241122546391345\n"
     ]
    },
    {
     "name": "stderr",
     "output_type": "stream",
     "text": [
      " 48%|████▊     | 513/1076 [01:55<06:00,  1.56it/s]"
     ]
    },
    {
     "name": "stdout",
     "output_type": "stream",
     "text": [
      "0.8342546454134953\n"
     ]
    },
    {
     "name": "stderr",
     "output_type": "stream",
     "text": [
      " 51%|█████     | 545/1076 [02:09<06:34,  1.35it/s]"
     ]
    },
    {
     "name": "stdout",
     "output_type": "stream",
     "text": [
      "0.7927731641749581\n"
     ]
    },
    {
     "name": "stderr",
     "output_type": "stream",
     "text": [
      " 54%|█████▍    | 584/1076 [02:23<03:51,  2.13it/s]"
     ]
    },
    {
     "name": "stdout",
     "output_type": "stream",
     "text": [
      "0.8465921600709153\n"
     ]
    },
    {
     "name": "stderr",
     "output_type": "stream",
     "text": [
      " 56%|█████▌    | 602/1076 [02:26<02:00,  3.92it/s]"
     ]
    },
    {
     "name": "stdout",
     "output_type": "stream",
     "text": [
      "0.8816781756088009\n"
     ]
    },
    {
     "name": "stderr",
     "output_type": "stream",
     "text": [
      " 59%|█████▉    | 636/1076 [02:31<02:56,  2.50it/s]"
     ]
    },
    {
     "name": "stdout",
     "output_type": "stream",
     "text": [
      "0.8028716328613381\n"
     ]
    },
    {
     "name": "stderr",
     "output_type": "stream",
     "text": [
      " 61%|██████    | 656/1076 [02:34<01:30,  4.64it/s]"
     ]
    },
    {
     "name": "stdout",
     "output_type": "stream",
     "text": [
      "0.8170601694486342\n"
     ]
    },
    {
     "name": "stderr",
     "output_type": "stream",
     "text": [
      " 63%|██████▎   | 677/1076 [02:37<01:13,  5.40it/s]"
     ]
    },
    {
     "name": "stdout",
     "output_type": "stream",
     "text": [
      "0.7690151001392055\n"
     ]
    },
    {
     "name": "stderr",
     "output_type": "stream",
     "text": [
      " 65%|██████▍   | 696/1076 [02:40<01:17,  4.92it/s]"
     ]
    },
    {
     "name": "stdout",
     "output_type": "stream",
     "text": [
      "0.8057716022901839\n"
     ]
    },
    {
     "name": "stderr",
     "output_type": "stream",
     "text": [
      " 67%|██████▋   | 716/1076 [02:43<02:03,  2.93it/s]"
     ]
    },
    {
     "name": "stdout",
     "output_type": "stream",
     "text": [
      "0.6732092150440487\n"
     ]
    },
    {
     "name": "stderr",
     "output_type": "stream",
     "text": [
      " 69%|██████▊   | 738/1076 [02:47<01:43,  3.28it/s]"
     ]
    },
    {
     "name": "stdout",
     "output_type": "stream",
     "text": [
      "0.9082340320551664\n"
     ]
    },
    {
     "name": "stderr",
     "output_type": "stream",
     "text": [
      " 70%|███████   | 758/1076 [02:51<01:29,  3.56it/s]"
     ]
    },
    {
     "name": "stdout",
     "output_type": "stream",
     "text": [
      "0.6777617972154992\n"
     ]
    },
    {
     "name": "stderr",
     "output_type": "stream",
     "text": [
      " 72%|███████▏  | 779/1076 [02:54<01:06,  4.47it/s]"
     ]
    },
    {
     "name": "stdout",
     "output_type": "stream",
     "text": [
      "0.8366901698689663\n"
     ]
    },
    {
     "name": "stderr",
     "output_type": "stream",
     "text": [
      " 74%|███████▍  | 797/1076 [02:56<00:47,  5.87it/s]"
     ]
    },
    {
     "name": "stdout",
     "output_type": "stream",
     "text": [
      "0.8125197524649419\n"
     ]
    },
    {
     "name": "stderr",
     "output_type": "stream",
     "text": [
      " 76%|███████▌  | 815/1076 [03:02<01:29,  2.91it/s]"
     ]
    },
    {
     "name": "stdout",
     "output_type": "stream",
     "text": [
      "0.8529650270206931\n"
     ]
    },
    {
     "name": "stderr",
     "output_type": "stream",
     "text": [
      " 79%|███████▊  | 847/1076 [03:08<01:02,  3.69it/s]"
     ]
    },
    {
     "name": "stdout",
     "output_type": "stream",
     "text": [
      "0.9022208692660821\n"
     ]
    },
    {
     "name": "stderr",
     "output_type": "stream",
     "text": [
      " 82%|████████▏ | 886/1076 [03:15<01:15,  2.53it/s]"
     ]
    },
    {
     "name": "stdout",
     "output_type": "stream",
     "text": [
      "0.6726665989811292\n"
     ]
    },
    {
     "name": "stderr",
     "output_type": "stream",
     "text": [
      " 84%|████████▍ | 906/1076 [03:19<00:53,  3.21it/s]"
     ]
    },
    {
     "name": "stdout",
     "output_type": "stream",
     "text": [
      "0.8716906496498055\n"
     ]
    },
    {
     "name": "stderr",
     "output_type": "stream",
     "text": [
      " 86%|████████▌ | 922/1076 [03:22<00:44,  3.44it/s]"
     ]
    },
    {
     "name": "stdout",
     "output_type": "stream",
     "text": [
      "0.8371770039200946\n"
     ]
    },
    {
     "name": "stderr",
     "output_type": "stream",
     "text": [
      " 88%|████████▊ | 942/1076 [03:24<00:35,  3.80it/s]"
     ]
    },
    {
     "name": "stdout",
     "output_type": "stream",
     "text": [
      "0.8553013768328487\n"
     ]
    },
    {
     "name": "stderr",
     "output_type": "stream",
     "text": [
      " 89%|████████▉ | 958/1076 [03:27<00:23,  5.12it/s]"
     ]
    },
    {
     "name": "stdout",
     "output_type": "stream",
     "text": [
      "0.8775072126008668\n"
     ]
    },
    {
     "name": "stderr",
     "output_type": "stream",
     "text": [
      " 91%|█████████ | 978/1076 [03:30<00:25,  3.81it/s]"
     ]
    },
    {
     "name": "stdout",
     "output_type": "stream",
     "text": [
      "0.771052763619041\n"
     ]
    },
    {
     "name": "stderr",
     "output_type": "stream",
     "text": [
      " 93%|█████████▎| 996/1076 [03:33<00:24,  3.26it/s]"
     ]
    },
    {
     "name": "stdout",
     "output_type": "stream",
     "text": [
      "0.8572939913226589\n"
     ]
    },
    {
     "name": "stderr",
     "output_type": "stream",
     "text": [
      " 95%|█████████▌| 1025/1076 [03:38<00:25,  1.98it/s]"
     ]
    },
    {
     "name": "stdout",
     "output_type": "stream",
     "text": [
      "0.7848901653094619\n"
     ]
    },
    {
     "name": "stderr",
     "output_type": "stream",
     "text": [
      " 97%|█████████▋| 1042/1076 [03:42<00:11,  3.09it/s]"
     ]
    },
    {
     "name": "stdout",
     "output_type": "stream",
     "text": [
      "0.8781954416557435\n"
     ]
    },
    {
     "name": "stderr",
     "output_type": "stream",
     "text": [
      " 99%|█████████▉| 1063/1076 [03:46<00:03,  3.44it/s]"
     ]
    },
    {
     "name": "stdout",
     "output_type": "stream",
     "text": [
      "0.8737005405023307\n"
     ]
    },
    {
     "name": "stderr",
     "output_type": "stream",
     "text": [
      "100%|██████████| 1076/1076 [03:48<00:00,  4.70it/s]"
     ]
    },
    {
     "name": "stdout",
     "output_type": "stream",
     "text": [
      "Total mean Dice: 0.8159944941751818, mean Dice LV: 0.8814097259744874, mean Dice RV: 0.7939229587241872, mean Dice Myo: 0.7726507978268703, mean Hausdorff: 12.673261127478662, mean Volume error: -60.07330929568075\n"
     ]
    },
    {
     "name": "stderr",
     "output_type": "stream",
     "text": [
      "\n"
     ]
    }
   ],
   "source": [
    "dices = []\n",
    "lvs = []\n",
    "rvs = []\n",
    "myos = []\n",
    "hds = []\n",
    "volpreds = []\n",
    "volerrors = []\n",
    "best_dice = 0\n",
    "worst_dice = 10\n",
    "current_patient = ''\n",
    "initialize = False\n",
    "\n",
    "for i, sample in enumerate(tqdm(test_loader)):\n",
    "    # Get ROI\n",
    "    inferer = monai.inferers.SimpleInferer()\n",
    "    discrete_transform = monai.transforms.AsDiscrete(threshold=0.5)\n",
    "    addchannel = monai.transforms.AddChannel()\n",
    "    norm = monai.transforms.NormalizeIntensity()\n",
    "    Sigmoid = torch.nn.Sigmoid()\n",
    "    \n",
    "    # Denoise an image\n",
    "    inputImage = denoise_tv_chambolle(sample['img'].cpu().detach().numpy(), eps=1e-6, weight=0.1, max_num_iter=1000)\n",
    "    inputImage = torch.from_numpy(inputImage)\n",
    "    \n",
    "    # Use this instead of 2 lines above if data is already denoised\n",
    "    # inputImage = sample['img']\n",
    "    \n",
    "    with torch.no_grad():\n",
    "        roiOutput = discrete_transform(Sigmoid(inferer(inputImage.float().to(device), network=roiModel).cpu())).squeeze().detach().numpy()\n",
    "    \n",
    "    roiDict = {'img': sample['img'], 'mask': roiOutput}\n",
    "    nr = nc = int(128/2)\n",
    "    ROI, com_r, com_c = get_ROI(roiDict)\n",
    "    \n",
    "    # Get segmentation on ROI\n",
    "    Softmax = torch.nn.Softmax()\n",
    "    with torch.no_grad():\n",
    "        output = Softmax(inferer(torch.from_numpy(np.resize(addchannel(ROI), (1,1,128,128))).float().to(device), network=model).cpu()).squeeze().detach().numpy()\n",
    "\n",
    "    seg = np.argmax(output, axis=0)\n",
    "    img = sample['img'].squeeze()[(com_r-nr):(com_r+nr),(com_c-nc):(com_c+nc)]\n",
    "    mask = sample['mask'].squeeze()[(com_r-nr):(com_r+nr),(com_c-nc):(com_c+nc)]\n",
    "    \n",
    "    # evaluation(img, mask, seg, model, visual=True)\n",
    "    \n",
    "    # Place segmented ROI back in full image size\n",
    "    finalseg = np.zeros((256,256))\n",
    "    finalseg[(com_r-nr):(com_r+nr),(com_c-nc):(com_c+nc)] = seg\n",
    "    seg = finalseg\n",
    "    \n",
    "    # ---- ROI done ----\n",
    "    \n",
    "    # Initialize empty masks once\n",
    "    mask = sample['mask'].squeeze().numpy()\n",
    "    \n",
    "    # Get voxel_size and patient from file names\n",
    "    voxel_size = test_dict[i]['mask'].split('_')[-2]\n",
    "    \n",
    "    # Do 0 + (i*1) to the split index, where 'i' is amount of underscores in folder name\n",
    "    patient = test_dict[i]['img'].split('_')[0][-10:]\n",
    "    \n",
    "    # Make image with correct dimensions for AC model\n",
    "    acImg = sample['img'].squeeze()\n",
    "    \n",
    "    # If first patients, initialize (3D) arrays\n",
    "    if ('patient101' in patient or 'patient001' in patient) and not initialize:\n",
    "        best_seg = np.zeros(mask.shape)\n",
    "        worst_seg = np.zeros(mask.shape)\n",
    "        threedmask = mask.reshape(mask.shape[0], mask.shape[1], 1)\n",
    "        threedsample = acImg.reshape(acImg.shape[0], acImg.shape[1], 1)\n",
    "        \n",
    "        # plt.imshow(sample['img'].squeeze())\n",
    "        # plt.title('sample')\n",
    "        # plt.show()\n",
    "        # seg = ac_mask(seg, acImg)\n",
    "        \n",
    "        threedseg = seg.reshape(seg.shape[0], seg.shape[1], 1)\n",
    "        current_patient = patient\n",
    "        initialize = True\n",
    "    # If patient is new, but not the first patient\n",
    "    elif patient not in current_patient:\n",
    "        # ----- Calculate all metrics on 3D-mask -----\n",
    "        \n",
    "        # Hacky fix for classes being mixed up with a certain model\n",
    "        threedseg[threedseg==1]=4\n",
    "        threedseg[threedseg==2]=5\n",
    "        threedseg[threedseg==3]=6\n",
    "        threedseg[threedseg==4]=3\n",
    "        threedseg[threedseg==5]=1\n",
    "        threedseg[threedseg==6]=2\n",
    "        \n",
    "        dice, lv, rv, myo, haus, volpred, volerror = metrics(threedmask, threedseg, voxel_size)\n",
    "        print(dice)\n",
    "        lvs.append(lv)\n",
    "        rvs.append(rv)\n",
    "        myos.append(myo)\n",
    "        volpreds.append(volpred)\n",
    "        volerrors.append(volerror)\n",
    "        \n",
    "        if dice > best_dice:\n",
    "            best_seg = threedseg[:,:,5]\n",
    "            best_dice = dice\n",
    "            \n",
    "            best = Image.fromarray(best_seg.astype('uint8'))\n",
    "            best.save(\"BestSegmentation_seg.png\")\n",
    "            \n",
    "            save_image(torch.from_numpy(threedsample[:,:,5])*255, 'BestSegmentation_img.png', normalize=True)\n",
    "            \n",
    "            save_image(torch.from_numpy(threedmask[:,:,5]).double(), 'BestSegmentation_mask.png', normalize=False)\n",
    "        elif dice < worst_dice:\n",
    "            worst_seg = threedseg[:,:,5]\n",
    "            worst_dice = dice\n",
    "            \n",
    "            worst = Image.fromarray(worst_seg.astype('uint8'))\n",
    "            worst.save(\"WorstSegmentation_seg.png\", format='PNG')\n",
    "            \n",
    "            save_image(torch.from_numpy(threedsample[:,:,5])*255, 'WorstSegmentation_img.png', normalize=True)\n",
    "            \n",
    "            save_image(torch.from_numpy(threedmask[:,:,5]).double(), 'WorstSegmentation_mask.png', normalize=False)\n",
    "        dices.append(dice)\n",
    "        hds.append(haus)\n",
    "        \n",
    "        # Reset 3D arrays\n",
    "        threedsample = acImg.reshape(acImg.shape[0], acImg.shape[1], 1)\n",
    "        threedmask = mask.reshape(mask.shape[0], mask.shape[1], 1)\n",
    "        threedseg = seg.reshape(seg.shape[0], seg.shape[1], 1)\n",
    "        current_patient = patient\n",
    "    # If same patient, add current mask to the 3D mask\n",
    "    elif patient in current_patient:\n",
    "        # Make mask&seg fit 3D shape\n",
    "        mask = mask.reshape(mask.shape[0], mask.shape[1], 1)\n",
    "        \n",
    "        # plt.imshow(sample['img'].squeeze())\n",
    "        # plt.title('sample')\n",
    "        # plt.show()\n",
    "        # seg = ac_mask(seg, acImg)\n",
    "        sample = acImg.reshape(acImg.shape[0], acImg.shape[1], 1)\n",
    "        seg = seg.reshape(seg.shape[0], seg.shape[1], 1)\n",
    "        \n",
    "        # Concatenate in 3rd dimension\n",
    "        threedsample = np.concatenate((threedsample, sample), 2)\n",
    "        threedmask = np.concatenate((threedmask, mask), 2)\n",
    "        threedseg = np.concatenate((threedseg, seg), 2)\n",
    "\n",
    "meanlv = mean(lvs)\n",
    "meanrv = mean(rvs)\n",
    "meanmyo = mean(myos)\n",
    "meandice = mean(dices)\n",
    "meanhd = mean(hds)\n",
    "meanvolpred = mean(volpreds)\n",
    "meanvolerror = mean(volerrors)\n",
    "\n",
    "print(f'Total mean Dice: {meandice}, mean Dice LV: {meanlv}, mean Dice RV: {meanrv}, mean Dice Myo: {meanmyo}, mean Hausdorff: {meanhd}, mean Volume error: {meanvolerror}')"
   ]
  },
  {
   "cell_type": "code",
   "execution_count": 101,
   "id": "747fa7b7-de22-45d6-a3ee-8804619ce930",
   "metadata": {},
   "outputs": [
    {
     "name": "stdout",
     "output_type": "stream",
     "text": [
      "Lets see the results...\n"
     ]
    }
   ],
   "source": [
    "print('Lets see the results...')"
   ]
  },
  {
   "cell_type": "code",
   "execution_count": null,
   "id": "c6d9f3ea-0f05-4764-ab2b-c25a3c31d495",
   "metadata": {},
   "outputs": [],
   "source": []
  }
 ],
 "metadata": {
  "kernelspec": {
   "display_name": "Python",
   "language": "python",
   "name": "python3"
  },
  "language_info": {
   "codemirror_mode": {
    "name": "ipython",
    "version": 3
   },
   "file_extension": ".py",
   "mimetype": "text/x-python",
   "name": "python",
   "nbconvert_exporter": "python",
   "pygments_lexer": "ipython3",
   "version": "3.8.10"
  }
 },
 "nbformat": 4,
 "nbformat_minor": 5
}
